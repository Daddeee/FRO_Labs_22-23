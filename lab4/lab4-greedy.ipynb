{
  "cells": [
    {
      "attachments": {},
      "cell_type": "markdown",
      "metadata": {
        "id": "YR-Oshu8AmU2"
      },
      "source": [
        "# Lab session of 31/05/2023\n",
        "\n",
        "## Problem 1: CVRP\n",
        "\n",
        "The Capacitated Vehicle Routing Problem (CVRP) is a generalization of the Traveling Salesman Problem (TSP) where a fleet of vehicles $K$ is available to serve a set of customers. Each vehicle has a limited capacity and the goal is to find a set of routes that minimizes the total travel cost while serving all customers and respecting the capacity constraint of each vehicle.\n",
        "\n",
        "In particulat, let $G = (V, A)$ be a complete graph, where $V = \\{0,...,n\\}$ is the vertex set and $A$ is the arc set. Vertices $i = 1,...,n$ correspond to the customers, whereas vertex $0$ corresponds to the depot. A nonnegative cost, $c_{ij}$, is associated with each arc $(i,j) \\in A$ and represents the travel cost spent to go from vertex $i$ to vertex $j$. We suppose that $c_{ii} = \\infty$ for all $i \\in V$.\n",
        "\n",
        "Each customer $i \\in V$ is associated with a known nonnegative demand to be delivered, $d_i$, and the depot has a fictitious demand $d_0 = 0$. \n",
        "\n",
        "A set $K$ of identical vehicles, each with capacity $C$, is available at the depot. To ensure feasibility we assume that $d_i \\le C$ for each $i \\in V$ and that we have a sufficient amount of vehicles to serve all customers.\n",
        "\n",
        "Given a vertex set $S \\subseteq V \\setminus \\{0\\}$, let $d(S) = \\sum_{i \\in S}{d_i}$ denote the total demand of the set. We denote with $r(S)$ the minimum number of vehicles needed to serve the total demand of $S$, i.e., $r(S) = \\lceil d(S)/C \\rceil$.\n",
        "\n",
        "The CVRP consists of finding a collection of vehicle routes with minimum cost, defined as the sum of the costs of the arcs belonging to each route, and such that:\n",
        "* each route starts and finishes at the depot vertex;\n",
        "* each customer vertex is visited by exactly one route; \n",
        "* the sum of the demands of the vertices visited by a route does not exceed the vehicle's capacity $C$.\n",
        "\n",
        "## Greedy Algorithm\n",
        "\n",
        "1.   Start from an empty set of routes.\n",
        "2.   Repeat while you have unrouted customers:\n",
        "    1. Create an empty route $R$ starting from the depot\n",
        "    2. Repeat while you have unrouted customers and the route $R$'s last node is not the depot:\n",
        "        1. Select the unrouted node (or depot) $i$ that is closest to the last node $j$ in the route\n",
        "        2. If $d_i + d(R) \\le C$ then add $i$ to the route"
      ]
    },
    {
      "cell_type": "code",
      "execution_count": null,
      "metadata": {
        "colab": {
          "base_uri": "https://localhost:8080/"
        },
        "id": "N5zLVSEd_jbb",
        "outputId": "40971b01-f9cd-4817-b560-0826be9912b4"
      },
      "outputs": [],
      "source": [
        "import numpy as np\n",
        "import math\n",
        "\n",
        "n = 8       # number of nodes\n",
        "max_d = 10  # max demand per node\n",
        "C = 30      # capacity of each vehicle\n",
        "\n",
        "grid_size = 100 # size of the grid of points\n",
        "\n",
        "np.random.seed(1337)\n",
        "\n",
        "# Create k random points with two coordinates. Multiplying by grid_size yields\n",
        "# random numbers between 0 and 100.\n",
        "point = grid_size * np.random.random((n,2))\n",
        "\n",
        "d = np.random.choice(np.arange(1, max_d), size=n)\n",
        "\n",
        "k = int(np.ceil(np.sum(d) / C))\n",
        "\n",
        "K = [i for i in range(k)]\n",
        "\n",
        "# Define the set of vertices of the graph as the list of numbers from 0 to k-1\n",
        "V = [i for i in range(n)]\n",
        "\n",
        "# Determine the distance between each point\n",
        "c = np.array([[math.sqrt(np.sum((point[i] - point[j])**2)) for i in V] for j in V])\n",
        "\n",
        "# Set C[i,i] to an arbitrarily large value to forbid usage of x[i,i]\n",
        "for i in V:\n",
        "  c[i,i] = 10000000\n",
        "\n",
        "print(n)\n",
        "print(C)\n",
        "print(k)\n",
        "print(k)"
      ]
    },
    {
      "cell_type": "code",
      "execution_count": null,
      "metadata": {
        "colab": {
          "base_uri": "https://localhost:8080/",
          "height": 516
        },
        "id": "J776Ew5OEe_g",
        "outputId": "b8c53ca8-e667-4163-8106-99b978bf5589"
      },
      "outputs": [],
      "source": [
        "import networkx as nx\n",
        "\n",
        "# Set of arcs\n",
        "A = [(i,j) for i in V for j in V if i != j]\n",
        "\n",
        "# Define a dictionary whose keys are the nodes, and the values are tuples\n",
        "# containing the (x,y) coordinates of each point\n",
        "coord = {i: (point[i,0], point[i,1]) for i in V}\n",
        "\n",
        "g = nx.Graph()\n",
        "\n",
        "g.add_nodes_from(V)\n",
        "g.add_edges_from(A)\n",
        "\n",
        "nx.draw(g, pos=coord)"
      ]
    },
    {
      "cell_type": "code",
      "execution_count": null,
      "metadata": {
        "colab": {
          "base_uri": "https://localhost:8080/"
        },
        "id": "XlnjgLHcH129",
        "outputId": "5f79a458-03f4-4d45-8343-9b70d46f77c8"
      },
      "outputs": [],
      "source": [
        "# A route is represented as a list of integers (visited customers), starting \n",
        "# with 0 (depot) and ending with 0.\n",
        "\n",
        "routes = []\n",
        "\n",
        "while # TODO: stopping condition\n",
        "  route = # TODO: build a feasible route\n",
        "  routes.append(route)\n",
        "\n",
        "obj = # TODO: compute objective function value for routes\n",
        "print(obj)"
      ]
    },
    {
      "cell_type": "code",
      "execution_count": null,
      "metadata": {
        "colab": {
          "base_uri": "https://localhost:8080/",
          "height": 516
        },
        "id": "tmupkaQWRx9q",
        "outputId": "136f6a1d-1b5e-490b-da41-1f1d21327680"
      },
      "outputs": [],
      "source": [
        "def draw_solution(V, A, routes):\n",
        "    g = nx.Graph()\n",
        "\n",
        "    # Draw the whole graph first: all nodes, all arcs, no highlighting\n",
        "    g.add_nodes_from(V)\n",
        "    g.add_edges_from([(i,j) for (i,j) in A])\n",
        "    nx.draw(g, pos=coord, with_labels=True, node_color=\"white\")\n",
        "\n",
        "    # Reset the graph and add only the arcs that belong to the solution, \n",
        "    # i.e. those for which the optimal value of the variable x[i,j] is nonzero\n",
        "    g.clear()\n",
        "\n",
        "    route_edges = []\n",
        "    for r in routes:\n",
        "      for k in range(len(r)):\n",
        "        if k == 0:\n",
        "          continue\n",
        "        route_edges.append((r[k-1], r[k]))\n",
        "\n",
        "    g.add_edges_from(route_edges)\n",
        "    nx.draw(g, pos=coord, width=4, edge_color='red', with_labels=True, node_color='white')\n",
        "\n",
        "    # finally, draw a graph consisting of the sole root node, highlighted in green\n",
        "    g.clear()\n",
        "    g.add_node(0)\n",
        "    nx.draw(g, pos={0: coord[0]}, node_color='white', with_labels=True)\n",
        "\n",
        "draw_solution(V, A, routes)"
      ]
    }
  ],
  "metadata": {
    "colab": {
      "provenance": []
    },
    "kernelspec": {
      "display_name": "Python 3",
      "name": "python3"
    },
    "language_info": {
      "name": "python"
    }
  },
  "nbformat": 4,
  "nbformat_minor": 0
}
