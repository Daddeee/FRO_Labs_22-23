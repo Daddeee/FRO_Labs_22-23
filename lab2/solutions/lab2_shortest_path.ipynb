{
  "cells": [
    {
      "cell_type": "markdown",
      "id": "7380be4d",
      "metadata": {
        "id": "7380be4d"
      },
      "source": [
        "# Lab session of 23/03/2022\n",
        "\n",
        "## Graph problem 1: the shortest path problem\n",
        "\n",
        "Find the shortest path from node 0 to node $k-1$ on a randomly generated graph with $k$ nodes where two nodes are connected if their Euclidean distance is not more than $d_{\\max}$. Specifically:\n",
        "\n",
        "1. Generate $k$ points by creating random $x,y$ coordinates for each; the coordinates should be in the interval $[0,100]$;\n",
        "2. Create edges by joining all node pairs whose distance is at most $d_{\\max}$;\n",
        "3. Create the optimization model for the shortest path problem, i.e., flow-based, based on the created graph; assume the path is from node 0 to node 12;\n",
        "4. Solve the optimization model and determine the shortest path."
      ]
    },
    {
      "cell_type": "markdown",
      "id": "9f839468",
      "metadata": {
        "id": "9f839468"
      },
      "source": [
        "## Solution\n",
        "\n",
        "We'll carry out each step one by one. In order to check our progress, we'll use the `matplotlib` Python module for visualizing what we obtained so far. We can also use `numpy` for generating a few random numbers. Here we create a $k\\times 2$ multiarray that contains the $(x,y)$ coordinates of each of the $k$ points.\n",
        "\n",
        "Point $i$ has coordinates `point[i]`. We compute the distance by any two points $i$ and $j$ and store all distances in a square $k\\times k$ matrix we call `distance`. Note that `distance[i,i]` is always zero."
      ]
    },
    {
      "cell_type": "code",
      "execution_count": 1,
      "id": "a18430e1",
      "metadata": {
        "colab": {
          "base_uri": "https://localhost:8080/"
        },
        "id": "a18430e1",
        "outputId": "65dea300-558f-442a-d7c3-e8df747eacf3"
      },
      "outputs": [
        {
          "output_type": "stream",
          "name": "stdout",
          "text": [
            "Looking in indexes: https://pypi.org/simple, https://us-python.pkg.dev/colab-wheels/public/simple/\n",
            "Collecting mip\n",
            "  Downloading mip-1.15.0-py3-none-any.whl (15.3 MB)\n",
            "\u001b[2K     \u001b[90m━━━━━━━━━━━━━━━━━━━━━━━━━━━━━━━━━━━━━━━━\u001b[0m \u001b[32m15.3/15.3 MB\u001b[0m \u001b[31m53.0 MB/s\u001b[0m eta \u001b[36m0:00:00\u001b[0m\n",
            "\u001b[?25hRequirement already satisfied: cffi==1.15.* in /usr/local/lib/python3.9/dist-packages (from mip) (1.15.1)\n",
            "Requirement already satisfied: pycparser in /usr/local/lib/python3.9/dist-packages (from cffi==1.15.*->mip) (2.21)\n",
            "Installing collected packages: mip\n",
            "Successfully installed mip-1.15.0\n"
          ]
        }
      ],
      "source": [
        "# When using Colab, make sure you run this instruction beforehand\n",
        "!pip install mip"
      ]
    },
    {
      "cell_type": "code",
      "execution_count": 3,
      "id": "5b830d92",
      "metadata": {
        "colab": {
          "base_uri": "https://localhost:8080/"
        },
        "id": "5b830d92",
        "outputId": "7381eeae-4de4-42b8-e2ec-43601712e487"
      },
      "outputs": [
        {
          "output_type": "stream",
          "name": "stdout",
          "text": [
            "[[92.96160928 31.63755546]\n",
            " [18.39188117 20.45602786]\n",
            " [56.77250291 59.5544703 ]\n",
            " [96.45145197 65.31770969]\n",
            " [74.89066375 65.35698709]\n",
            " [74.77148093 96.13067361]\n",
            " [ 0.83882979 10.64443767]\n",
            " [29.87037138 65.64111831]\n",
            " [80.98125525 87.21759137]\n",
            " [96.46475974 72.36853469]\n",
            " [64.24753279 71.74536208]\n",
            " [46.75990072 32.55846775]\n",
            " [43.96446059 72.96890827]\n",
            " [99.40145859 67.68737118]\n",
            " [79.08225178 17.09142578]]\n"
          ]
        }
      ],
      "source": [
        "import numpy as np\n",
        "import math\n",
        "\n",
        "k = 15\n",
        "grid_size = 100 # size of the grid of points\n",
        "d_max = .35 * grid_size\n",
        "\n",
        "s = 0\n",
        "t = 12\n",
        "\n",
        "np.random.seed(12345)\n",
        "\n",
        "# Create k random points with two coordinates. Multiplying by grid_size yields\n",
        "# random numbers between 0 and 100.\n",
        "point = grid_size * np.random.random((k,2))\n",
        "\n",
        "# Define the set of vertices of the graph as the list of numbers from 0 to k-1\n",
        "V = [i for i in range(k)]\n",
        "\n",
        "print(point)"
      ]
    },
    {
      "cell_type": "markdown",
      "id": "ac9b7b3e",
      "metadata": {
        "id": "ac9b7b3e"
      },
      "source": [
        "Let's plot these points on the grid. We use `matplotlib` and specifically the function `matplotlib.pyplot`."
      ]
    },
    {
      "cell_type": "code",
      "execution_count": 4,
      "id": "9959f418",
      "metadata": {
        "colab": {
          "base_uri": "https://localhost:8080/",
          "height": 434
        },
        "id": "9959f418",
        "outputId": "1ab9be0a-06b6-4457-98a8-e4eea1044900"
      },
      "outputs": [
        {
          "output_type": "display_data",
          "data": {
            "text/plain": [
              "<Figure size 640x480 with 1 Axes>"
            ],
            "image/png": "[encoded data removed]"
          },
          "metadata": {}
        }
      ],
      "source": [
        "import matplotlib.pyplot as plot\n",
        "plot.scatter(point[:,0], point[:,1])\n",
        "plot.show()"
      ]
    },
    {
      "cell_type": "markdown",
      "id": "31aa9f54",
      "metadata": {
        "id": "31aa9f54"
      },
      "source": [
        "The `random` function call above uses a _random seed_ that is set on import. If we run the two cells above again, the coordinates would change and so would the graph. Anyone of us probably got a different set of points when running the above code.\n",
        "\n",
        "Let's now determine all distances between each point. An explanation of this one-liner is provided at the end of this notebook."
      ]
    },
    {
      "cell_type": "code",
      "execution_count": 5,
      "id": "8a5c4849",
      "metadata": {
        "id": "8a5c4849"
      },
      "outputs": [],
      "source": [
        "# Now determine the distance between each point\n",
        "distance = np.array([[math.sqrt(np.sum((point[i] - point[j])**2)) for i in V] for j in V])"
      ]
    },
    {
      "cell_type": "markdown",
      "id": "1f79a672",
      "metadata": {
        "id": "1f79a672"
      },
      "source": [
        "Now let's draw the graph we constructed: we need a new Python module called `networkx`, but then drawing the graph can be done in 7 lines of code.\n",
        "\n",
        "To create a graph, we need a set $V$ of nodes, which we already have as it's the set of numbers from 0 to $k-1$. We also need a set of arcs $A$. For that we just take all tuples `(i,j)` such that the distance we computed above is not more than $d_{\\max}$.\n",
        "\n",
        "We then create a graph `g` as an object of the class `networkx.Graph`, we add the nodes from $V$ and the arcs from $A$. Then it's just a matter of calling `networkx.draw` by specifying the coordinates of the points. If the coordinates are not given, `networkx` can easily create them.\n",
        "\n",
        "The coordinates are specified as a __dictionary__, one of the fundamental data types in Python: they can be specified as in the following example, with key-value pairs,\n",
        "\n",
        "```python\n",
        "phone_book = {'Alice': '555 3324',\n",
        "              'Bob': '555 4620'}\n",
        "```\n",
        "\n",
        "but we'll use a generator to create a dictionary that has nodes as keys and their coordinates $(x,y)$ as values. The `coord` object is only needed to draw the graph according to the right position of all nodes."
      ]
    },
    {
      "cell_type": "code",
      "execution_count": 6,
      "id": "f89c2ee0",
      "metadata": {
        "colab": {
          "base_uri": "https://localhost:8080/",
          "height": 516
        },
        "id": "f89c2ee0",
        "outputId": "910c8e4a-7cdf-4cf3-902f-311ae486e8e9"
      },
      "outputs": [
        {
          "output_type": "display_data",
          "data": {
            "text/plain": [
              "<Figure size 640x480 with 1 Axes>"
            ],
            "image/png": "[encoded data removed]"
          },
          "metadata": {}
        }
      ],
      "source": [
        "import networkx as nx\n",
        "\n",
        "V = [i for i in range(k)]  # set of nodes; redefined, but this is OK\n",
        "\n",
        "# Set of arcs: note the condition that i!=j and especially the condition\n",
        "# that prevents long arcs.\n",
        "A = [(i,j) for i in V for j in V if i != j and distance[i,j] <= d_max]\n",
        "\n",
        "# Define a dictionary whose keys are the nodes, and the values are tuples\n",
        "# containing the (x,y) coordinates of each point\n",
        "coord = {i: (point[i,0], point[i,1]) for i in V}\n",
        "\n",
        "g = nx.Graph()\n",
        "\n",
        "g.add_nodes_from(V)\n",
        "g.add_edges_from(A)\n",
        "\n",
        "nx.draw(g, pos=coord)"
      ]
    },
    {
      "cell_type": "markdown",
      "id": "c67d46f3",
      "metadata": {
        "id": "c67d46f3"
      },
      "source": [
        "The input is done, now we need to create a MIP model after importing the `mip` module. The formulation is as follows (note that $d_{ij}$ is the distance between $i$ and $j$):\n",
        "\n",
        "$$\n",
        "\\begin{array}{lll}\n",
        "   \\min & \\sum_{(i,j) \\in A} d_{ij} f_{ij}\\\\\n",
        "   \\textrm{s.t.} & \\sum_{j \\in V: (i,j) \\in A} f_{ij} -  \\sum_{j \\in V: (j,i) \\in A} f_{ji} = b_i & \\forall i\\in V\\\\\n",
        "  & f_{ij} \\ge 0 & \\forall (i,j) \\in A\n",
        "\\end{array}\n",
        "$$\n",
        "\n",
        "where $b_i = \\left\\{\n",
        "   \\begin{array}{ll}\n",
        "      1 & \\textrm{if }i=s\\\\\n",
        "     -1 & \\textrm{if }i=t\\\\\n",
        "      0 & \\textrm{otherwise}\n",
        "   \\end{array}\n",
        "   \\right.$. We start by importing `mip` and creating a model, then adding the two classes of variables $f$ and $x$ with appropriate index sets."
      ]
    },
    {
      "cell_type": "code",
      "execution_count": 7,
      "id": "14fe8e6d",
      "metadata": {
        "id": "14fe8e6d"
      },
      "outputs": [],
      "source": [
        "# Flow formulation\n",
        "\n",
        "import mip\n",
        "\n",
        "m = mip.Model()\n",
        "\n",
        "f = {(i,j): m.add_var() for (i,j) in A}  # default lower and upper bounds of 0 and +inf"
      ]
    },
    {
      "cell_type": "markdown",
      "id": "34f4045f",
      "metadata": {
        "id": "34f4045f"
      },
      "source": [
        "We need to add the two classes of constraints: _conservation of flow_ and the constraints forcing $x_{ij}$ to 1 if $f_{ij} > 0$.\n",
        "\n",
        "The flow conservation constraints requires that "
      ]
    },
    {
      "cell_type": "code",
      "execution_count": 8,
      "id": "6a0e9ac6",
      "metadata": {
        "id": "6a0e9ac6"
      },
      "outputs": [],
      "source": [
        "b = {i: 0 for i in V}\n",
        "b[s] = 1\n",
        "b[t] = -1\n",
        "\n",
        "for i in V:\n",
        "    m.add_constr(mip.xsum(f[i,j] for j in V if (i,j) in A) -   # Outgoing flow from i\n",
        "                 mip.xsum(f[j,i] for j in V if (j,i) in A) ==  # Incoming flow into i\n",
        "                 b[i])"
      ]
    },
    {
      "cell_type": "markdown",
      "id": "55c6d256",
      "metadata": {
        "id": "55c6d256"
      },
      "source": [
        "Finally, the objective function: the sum over all arcs $(i,j)$ of their length $d_{ij}$ (i.e. the distance between nodes $i$ and $j$) multiplied by the variable $x_{ij}$."
      ]
    },
    {
      "cell_type": "code",
      "execution_count": 9,
      "id": "0973c67e",
      "metadata": {
        "colab": {
          "base_uri": "https://localhost:8080/"
        },
        "id": "0973c67e",
        "outputId": "9dd0637e-465f-47b8-a29b-037c6d536148"
      },
      "outputs": [
        {
          "output_type": "execute_result",
          "data": {
            "text/plain": [
              "<OptimizationStatus.OPTIMAL: 0>"
            ]
          },
          "metadata": {},
          "execution_count": 9
        }
      ],
      "source": [
        "m.objective = mip.minimize(mip.xsum(distance[i,j] * f[i,j] for (i,j) in A))\n",
        "m.optimize()"
      ]
    },
    {
      "cell_type": "markdown",
      "id": "2b9ef918",
      "metadata": {
        "id": "2b9ef918"
      },
      "source": [
        "If we didn't have any graphical tool, we could easily just print out the indices $(i,j)$ of the variables $x_{ij}$ that have a non-zero value:"
      ]
    },
    {
      "cell_type": "code",
      "execution_count": 10,
      "id": "5a7e8255",
      "metadata": {
        "colab": {
          "base_uri": "https://localhost:8080/"
        },
        "id": "5a7e8255",
        "outputId": "a76e0c2e-61f5-43ea-8b7f-a98d7d88e60a"
      },
      "outputs": [
        {
          "output_type": "stream",
          "name": "stdout",
          "text": [
            "0 ---> 3\n",
            "3 ---> 10\n",
            "10 ---> 12\n"
          ]
        }
      ],
      "source": [
        "for (i,j) in A:\n",
        "    if f[i,j].x > 0.5:\n",
        "        print(i, \"--->\", j)"
      ]
    },
    {
      "cell_type": "markdown",
      "id": "3533cab2",
      "metadata": {
        "id": "3533cab2"
      },
      "source": [
        "But we'll use the `networkx.draw` function again and add some more features to visualize the tree on the graph. Note that `networkx.draw` can host multiple drawings of the same graph, and this can be useful to give a different width/color for the arcs that belong to the optimal solution as well as for showing where the root node is.\n",
        "\n",
        "We put this code into a function as it will be called later when using the other formulation."
      ]
    },
    {
      "cell_type": "code",
      "execution_count": 11,
      "id": "fbaddeef",
      "metadata": {
        "colab": {
          "base_uri": "https://localhost:8080/",
          "height": 516
        },
        "id": "fbaddeef",
        "outputId": "02dc2ff6-f0c7-4db6-94cf-22be8862ccbd"
      },
      "outputs": [
        {
          "output_type": "display_data",
          "data": {
            "text/plain": [
              "<Figure size 640x480 with 1 Axes>"
            ],
            "image/png": "[encoded data removed]"
          },
          "metadata": {}
        }
      ],
      "source": [
        "def draw_solution(V, A, x):\n",
        "    g = nx.Graph()\n",
        "\n",
        "    # Draw the whole graph first: all nodes, all arcs, no highlighting\n",
        "    g.add_nodes_from(V)\n",
        "    g.add_edges_from([(i,j) for (i,j) in A])\n",
        "    nx.draw(g, pos=coord)\n",
        "\n",
        "    # Reset the graph and add only the arcs that belong to the solution, \n",
        "    # i.e. those for which the optimal value of the variable f[i,j] is nonzero\n",
        "    g.clear()\n",
        "    g.add_edges_from([(i,j) for (i,j) in A if f[i,j].x > 0.001])\n",
        "    nx.draw(g, pos=coord, width=4, edge_color='red')\n",
        "\n",
        "    # finally, draw a graph consisting of the sole root node, highlighted in green\n",
        "    g.clear()\n",
        "    g.add_node(0)\n",
        "    nx.draw(g, pos={0: coord[0]}, node_color='green')\n",
        "\n",
        "    \n",
        "# after defining the function, call it with the current data\n",
        "draw_solution (V, A, f)"
      ]
    },
    {
      "cell_type": "markdown",
      "id": "a04b7ea4",
      "metadata": {
        "id": "a04b7ea4"
      },
      "source": [
        "## Explanation of the definition of `distance`"
      ]
    },
    {
      "cell_type": "code",
      "execution_count": null,
      "id": "b892ef66",
      "metadata": {
        "id": "b892ef66"
      },
      "outputs": [],
      "source": [
        "distance = np.array([[math.sqrt(np.sum((point[i] - point[j])**2)) for i in V] for j in V])"
      ]
    },
    {
      "cell_type": "markdown",
      "id": "fc0d1e9a",
      "metadata": {
        "id": "fc0d1e9a"
      },
      "source": [
        "Let's analyze the above instruction given that it compresses quite a few operations on one line.\n",
        "\n",
        "Consider the multiarray with the coordinates. Point 3, for example, has coordinates `point[3,0]` and `point[3,1]`. It can also be considered as a 2-vector with `point[3]`. "
      ]
    },
    {
      "cell_type": "code",
      "execution_count": null,
      "id": "6f14c41b",
      "metadata": {
        "id": "6f14c41b"
      },
      "outputs": [],
      "source": [
        "print(point[3,0])\n",
        "print(point[3,1])\n",
        "print(point[3])"
      ]
    },
    {
      "cell_type": "markdown",
      "id": "40d4ed3f",
      "metadata": {
        "id": "40d4ed3f"
      },
      "source": [
        "Numpy can do operations on (sub-)vectors, so we can easily obtain the difference vector between point 2 and point 3, which will be obviously a 2-vector:"
      ]
    },
    {
      "cell_type": "code",
      "execution_count": null,
      "id": "f861e434",
      "metadata": {
        "id": "f861e434"
      },
      "outputs": [],
      "source": [
        "print(point[2])\n",
        "print(point[3])\n",
        "print(\"vector difference:\", point[3] - point[2])"
      ]
    },
    {
      "cell_type": "markdown",
      "id": "40f19268",
      "metadata": {
        "id": "40f19268"
      },
      "source": [
        "For a numpy array `a`, the array `a**2` is such that every element is the square of each element of `a`."
      ]
    },
    {
      "cell_type": "code",
      "execution_count": null,
      "id": "0e07cc03",
      "metadata": {
        "id": "0e07cc03"
      },
      "outputs": [],
      "source": [
        "a = np.array([2,5])\n",
        "print(a**2)"
      ]
    },
    {
      "cell_type": "markdown",
      "id": "7aa55491",
      "metadata": {
        "id": "7aa55491"
      },
      "source": [
        "The `np.sum` operator obviously gives the sum of all elements in the vector, while `np.sqrt` takes the square root. "
      ]
    },
    {
      "cell_type": "code",
      "execution_count": null,
      "id": "5edee679",
      "metadata": {
        "id": "5edee679"
      },
      "outputs": [],
      "source": [
        "p1 = np.array([2,7])\n",
        "p2 = np.array([5,3])\n",
        "\n",
        "print('difference vector:', p1-p2)\n",
        "print('squared difference:', (p1-p2)**2)\n",
        "print('sum of the squared differences:', np.sum((p1-p2)**2))\n",
        "print('its square root is:', np.sqrt(np.sum((p1-p2)**2)))"
      ]
    },
    {
      "cell_type": "markdown",
      "id": "d2c1b26d",
      "metadata": {
        "id": "d2c1b26d"
      },
      "source": [
        "Now we just need to elaborate a bit on *list comprehensions*, i.e. how to create lists by looping over an index."
      ]
    },
    {
      "cell_type": "code",
      "execution_count": null,
      "id": "43c61dbe",
      "metadata": {
        "id": "43c61dbe"
      },
      "outputs": [],
      "source": [
        "table5 = np.array([[i*j for i in range(1,6)] for j in range(1,6)])\n",
        "print(table5)"
      ]
    },
    {
      "cell_type": "markdown",
      "id": "82d149c9",
      "metadata": {
        "id": "82d149c9"
      },
      "source": [
        "Well, this is the multiplication table from 1 to 5. The take-away message is that we have a nested list comprehension\n",
        "```python\n",
        "a = [[i*j for i in ...] for j in ...]\n",
        "```\n",
        "We can now read the instruction a little more easily:"
      ]
    },
    {
      "cell_type": "code",
      "execution_count": null,
      "id": "d2cbf552",
      "metadata": {
        "id": "d2cbf552"
      },
      "outputs": [],
      "source": [
        "#                               squared difference between any two points \n",
        "#                                       ___________|___________\n",
        "#                                      /                       \\\n",
        "distance = np.array([[math.sqrt(np.sum((point[i] - point[j])**2)) for i in V] for j in V])\n",
        "#                     \\_________________________________________/\n",
        "#                                            |\n",
        "#                      square root of their sum (i.e. distance between i and j)\n",
        "#                   \\___________________________________________________________________/\n",
        "#                                                        |\n",
        "#                     List comprehension that computes the distance between any two points i and j"
      ]
    },
    {
      "cell_type": "markdown",
      "id": "f0372f92",
      "metadata": {
        "id": "f0372f92"
      },
      "source": [
        "### Can we do it faster?\n",
        "\n",
        "https://jakevdp.github.io/PythonDataScienceHandbook/01.07-timing-and-profiling.html"
      ]
    },
    {
      "cell_type": "code",
      "execution_count": null,
      "id": "b11b9e8b",
      "metadata": {
        "id": "b11b9e8b"
      },
      "outputs": [],
      "source": [
        "import numpy as np\n",
        "import math\n",
        "\n",
        "# Generate many random 2d points in [0, 100]\n",
        "num_points = 1000\n",
        "grid_size = 100\n",
        "points = grid_size * np.random.random((num_points,2))\n",
        "\n",
        "def slow_distance_matrix(points):\n",
        "    return np.array([[math.sqrt(np.sum((pi - pj)**2)) for pi in points] for pj in points])\n",
        "\n",
        "def fast_distance_matrix(x):\n",
        "    #\n",
        "    # Inspired by: \n",
        "    # https://github.com/eth-cscs/PythonHPC/blob/master/numpy/03-euclidean-distance-matrix-numpy.ipynb\n",
        "    #\n",
        "    # The \"Euclidean Trick\" math: \n",
        "    # https://www.robots.ox.ac.uk/~albanie/notes/Euclidean_distance_trick.pdf\n",
        "    #\n",
        "    xy = x @ x.T\n",
        "    x2 = xy.diagonal()[:,np.newaxis]\n",
        "    return np.abs(x2 + x2.T - 2. * xy)**0.5\n",
        "\n",
        "print(\"Running slow version\")\n",
        "%time m1 = slow_distance_matrix(points)\n",
        "\n",
        "print(\"Running fast version\")\n",
        "%time m2 = fast_distance_matrix(points)\n",
        "\n",
        "# Check if matrices contains the same values \n",
        "# (beware of floating point comparisons!!)\n",
        "eps = 1e-5\n",
        "assert (np.abs(m1 - m2) <= eps).all()"
      ]
    }
  ],
  "metadata": {
    "kernelspec": {
      "display_name": "Python 3 (ipykernel)",
      "language": "python",
      "name": "python3"
    },
    "language_info": {
      "codemirror_mode": {
        "name": "ipython",
        "version": 3
      },
      "file_extension": ".py",
      "mimetype": "text/x-python",
      "name": "python",
      "nbconvert_exporter": "python",
      "pygments_lexer": "ipython3",
      "version": "3.10.5"
    },
    "colab": {
      "provenance": []
    }
  },
  "nbformat": 4,
  "nbformat_minor": 5
}