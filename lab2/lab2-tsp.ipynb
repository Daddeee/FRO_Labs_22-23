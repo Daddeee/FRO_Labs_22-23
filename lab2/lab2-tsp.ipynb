{
  "cells": [
    {
      "cell_type": "markdown",
      "id": "71e8cba3",
      "metadata": {
        "id": "71e8cba3"
      },
      "source": [
        "# Lab session of 17/05/2023\n",
        "\n",
        "## Graph problem 3: The Traveling Salesperson Problem (TSP)\n",
        "\n",
        "Find the shortest Hamiltonian circuit through $n$ nodes where the distance between any two nodes is known. In particular:\n",
        "\n",
        "1. Generate $k$ points by creating random $x,y$ coordinates for each; the coordinates should be in the interval $[0,100]$;\n",
        "2. Assume the graph $G = (V,E)$ on which to solve the TSP is _complete_, i.e. any two pairs are connected by an edge;\n",
        "3. Create the optimization model for the TSP by only adding _flow conservation_ constraints, i.e., do not add any subtour elimination constraints;\n",
        "4. Iteratively solve the optimization model and then add subtour elimination constraints until the solution is a single (optimal) tour."
      ]
    },
    {
      "cell_type": "markdown",
      "id": "65d91fd2",
      "metadata": {
        "id": "65d91fd2"
      },
      "source": [
        "## Solution\n",
        "\n",
        "Similar to problem 1 (shortest path tree), we'll perform a step at a time and visualize what we obtain in order to provide some intuition for each step. We'll use similar code for creating coordinates."
      ]
    },
    {
      "cell_type": "code",
      "execution_count": null,
      "id": "6ac6b084",
      "metadata": {
        "id": "6ac6b084"
      },
      "outputs": [],
      "source": [
        "# When using Colab, make sure you run this instruction beforehand\n",
        "!pip install mip"
      ]
    },
    {
      "cell_type": "code",
      "execution_count": null,
      "id": "749a44a5",
      "metadata": {
        "id": "749a44a5"
      },
      "outputs": [],
      "source": [
        "import numpy as np\n",
        "import math\n",
        "\n",
        "k = 7  # number of nodes\n",
        "\n",
        "grid_size = 100 # size of the grid of points\n",
        "\n",
        "np.random.seed(1337)\n",
        "\n",
        "# Create k random points with two coordinates. Multiplying by grid_size yields\n",
        "# random numbers between 0 and 100.\n",
        "point = grid_size * np.random.random((k,2))\n",
        "\n",
        "# Define the set of vertices of the graph as the list of numbers from 0 to k-1\n",
        "\n",
        "# Determine the distance between each point"
      ]
    },
    {
      "cell_type": "markdown",
      "id": "81448c8b",
      "metadata": {
        "id": "81448c8b"
      },
      "source": [
        "Let's plot these points on the grid. We use `matplotlib` and specifically the function `matplotlib.pyplot`. We then create a complete graph and draw it on the grid."
      ]
    },
    {
      "cell_type": "code",
      "execution_count": null,
      "id": "a4a55905",
      "metadata": {
        "scrolled": false,
        "id": "a4a55905"
      },
      "outputs": [],
      "source": [
        "import matplotlib.pyplot as plot\n",
        "plot.scatter(point[:,0], point[:,1])\n",
        "plot.show()"
      ]
    },
    {
      "cell_type": "code",
      "execution_count": null,
      "id": "149a16a1",
      "metadata": {
        "id": "149a16a1"
      },
      "outputs": [],
      "source": [
        "import networkx as nx\n",
        "\n",
        "# Set of edges: note the condition that i<j as these are edges, not arcs,\n",
        "# i.e. they are not directed.\n",
        "E = [(i,j) for i in V for j in V if i < j]\n",
        "\n",
        "# Define a dictionary whose keys are the nodes, and the values are tuples\n",
        "# containing the (x,y) coordinates of each point\n",
        "coord = {i: (point[i,0], point[i,1]) for i in V}\n",
        "\n",
        "g = nx.Graph()\n",
        "\n",
        "g.add_nodes_from(V)\n",
        "g.add_edges_from(E)\n",
        "\n",
        "nx.draw(g, pos=coord)"
      ]
    },
    {
      "cell_type": "markdown",
      "id": "e46a9288",
      "metadata": {
        "id": "e46a9288"
      },
      "source": [
        "We have all data we need and proceed to create a MIP model for the TSP. Let's write the complete one, with the exponentially large set of subtour-elimination constraints:\n",
        "\n",
        "$$\n",
        "\\begin{array}{lll}\n",
        "   \\min & \\sum_{(i,j) \\in E} d_{ij} x_{ij}\\\\\n",
        "   \\textrm{s.t.} & \\sum_{j \\in V: (i,j) \\in E} x_{ij} = 2 & \\forall i\\in V\\\\\n",
        "                 & \\sum_{(i,j) \\in E: i\\in C, j\\in C} x_{ij} \\le |C| - 1 & \\forall C\\subset V: C \\neq \\emptyset\\\\\n",
        "                 & x_{ij} \\in \\{0,1\\} & \\forall (i,j) \\in E\n",
        "\\end{array}\n",
        "$$\n",
        "\n",
        "In the first version of our model, we won't include any subtour-elimination constraint but will only add the first set."
      ]
    },
    {
      "cell_type": "code",
      "execution_count": null,
      "id": "1bc32675",
      "metadata": {
        "id": "1bc32675"
      },
      "outputs": [],
      "source": [
        "# Create model, add variables\n",
        "import mip\n",
        "\n",
        "m = mip.Model()\n",
        "\n",
        "x = {} # TODO #"
      ]
    },
    {
      "cell_type": "markdown",
      "id": "6919ef59",
      "metadata": {
        "id": "6919ef59"
      },
      "source": [
        "The flow conservation constraints requires that the incoming flow equal the outgoing flow. Instead of adding these constraints in a loop, we add them using a generator."
      ]
    },
    {
      "cell_type": "code",
      "execution_count": null,
      "id": "49866d21",
      "metadata": {
        "id": "49866d21"
      },
      "outputs": [],
      "source": [
        "# TODO: Add conservation constraints\n",
        "for i in V:\n",
        "    ..."
      ]
    },
    {
      "cell_type": "markdown",
      "id": "cf0ec21f",
      "metadata": {
        "id": "cf0ec21f"
      },
      "source": [
        "The objective function is the same as for the previous problem: the sum over all arcs $(i,j)$ of their length $d_{ij}$ (i.e. the distance between nodes $i$ and $j$) multiplied by the variable $x_{ij}$."
      ]
    },
    {
      "cell_type": "code",
      "execution_count": null,
      "id": "56517f33",
      "metadata": {
        "id": "56517f33"
      },
      "outputs": [],
      "source": [
        "# TODO: Add objective function and solve problem\n",
        "m.objective = ...\n",
        "m.optimize()"
      ]
    },
    {
      "cell_type": "markdown",
      "id": "2886afc8",
      "metadata": {
        "id": "2886afc8"
      },
      "source": [
        "We can rewrite the function for drawing the MIP solution, which might contain subtours."
      ]
    },
    {
      "cell_type": "code",
      "execution_count": null,
      "id": "a7d8c116",
      "metadata": {
        "id": "a7d8c116"
      },
      "outputs": [],
      "source": [
        "def draw_solution(V, A, x):\n",
        "    g = nx.Graph()\n",
        "\n",
        "    # Draw the whole graph first: all nodes, all arcs, no highlighting\n",
        "    g.add_nodes_from(V)\n",
        "    g.add_edges_from([(i,j) for (i,j) in A])\n",
        "    nx.draw(g, pos=coord, with_labels=True, node_color=\"white\")\n",
        "\n",
        "    # Reset the graph and add only the arcs that belong to the solution, \n",
        "    # i.e. those for which the optimal value of the variable x[i,j] is nonzero\n",
        "    g.clear()\n",
        "    g.add_edges_from([(i,j) for (i,j) in A if x[i,j].x > 0.5])\n",
        "    nx.draw(g, pos=coord, width=4, edge_color='red', with_labels=True, node_color='white')\n",
        "\n",
        "    # finally, draw a graph consisting of the sole root node, highlighted in green\n",
        "    g.clear()\n",
        "    g.add_node(0)\n",
        "    nx.draw(g, pos={0: coord[0]}, node_color='white', with_labels=True)\n",
        "\n",
        "    \n",
        "# after defining the function, call it with the current data\n",
        "draw_solution (V, E, x)"
      ]
    },
    {
      "cell_type": "markdown",
      "id": "63bc677b",
      "metadata": {
        "id": "63bc677b"
      },
      "source": [
        "Did we get a Hamiltonian circuit or subtours? In the latter case, we must separate subtour elimination constraints. We do it by hand for the first few iterations.\n"
      ]
    },
    {
      "cell_type": "code",
      "execution_count": null,
      "id": "f2d1a259",
      "metadata": {
        "id": "f2d1a259"
      },
      "outputs": [],
      "source": [
        "# Add single subtour elimination constraint and solve\n",
        "\n",
        "m.optimize()\n",
        "draw_solution (V, E, x)"
      ]
    },
    {
      "cell_type": "markdown",
      "id": "82246f27",
      "metadata": {
        "id": "82246f27"
      },
      "source": [
        "## How do we make this automatic? \n",
        "\n",
        "How do we repeat this step by adding the appropriate subtour-elimination constraint until we find a Hamiltonian circuit?\n",
        "\n"
      ]
    },
    {
      "cell_type": "code",
      "execution_count": null,
      "id": "fd90ebf4",
      "metadata": {
        "id": "fd90ebf4"
      },
      "outputs": [],
      "source": [
        "# returns a list of cycles (list of vertices) in the solution\n",
        "def get_cycles(V, E, x):\n",
        "  graph = [[] for i in V]\n",
        "\n",
        "  for (i,j) in E:\n",
        "    if x[i,j].x > 0.5:\n",
        "      graph[i].append(j)\n",
        "      graph[j].append(i)\n",
        "\n",
        "  cycles = []\n",
        "  color = [0 for i in V]\n",
        "  par = [-1 for i in V]\n",
        "\n",
        "  for i in V:\n",
        "    if par[i] == -1:\n",
        "      dfs_cycle(graph, cycles, i, -1, color, par)\n",
        "\n",
        "  return [c for c in cycles if len(c) < len(V) and len(c) > 0]\n",
        "\n",
        "# depth first search algorithm\n",
        "def dfs_cycle(graph, cycles, u, p, color, par):\n",
        "    # skip completely visited vertex.\n",
        "    if color[u] == 2:\n",
        "        return\n",
        " \n",
        "    # If vertex has been seen but not completely visited -> cycle detected.\n",
        "    # Backtrack based on parents to find the complete cycle.\n",
        "    if color[u] == 1:\n",
        "        v = []\n",
        "        cur = p\n",
        "        v.append(cur)\n",
        " \n",
        "        # backtrack the vertex which are\n",
        "        # in the current cycle thats found\n",
        "        while cur != u:\n",
        "            cur = par[cur]\n",
        "            v.append(cur)\n",
        "        \n",
        "        cycles.append(v)\n",
        "        return\n",
        " \n",
        "    par[u] = p\n",
        " \n",
        "    # partially visited.\n",
        "    color[u] = 1\n",
        " \n",
        "    # simple dfs on graph\n",
        "    for v in graph[u]:\n",
        "        # if it has not been visited previously\n",
        "        if v == par[u]:\n",
        "            continue\n",
        "        dfs_cycle(graph, cycles, v, u, color, par)\n",
        " \n",
        "    # completely visited.\n",
        "    color[u] = 2"
      ]
    },
    {
      "cell_type": "code",
      "source": [
        "import mip\n",
        "\n",
        "\n",
        "m = mip.Model()\n",
        "\n",
        "x = {(i,j): m.add_var(var_type=mip.BINARY, name=\"x{}{}\".format(str(i), str(j))) for (i,j) in E}\n",
        "\n",
        "for i in V:\n",
        "    m.add_constr(mip.xsum(x[j,i] for j in V if j < i) +\n",
        "                 mip.xsum(x[i,j] for j in V if j > i) == 2)\n",
        "\n",
        "m.objective = mip.minimize(mip.xsum(distance[i,j] * x[i,j] for (i,j) in E))\n",
        "m.optimize()\n",
        "\n",
        "cycles = get_cycles(V, E, x)\n",
        "iters = 0\n",
        "while len(cycles) > 0:\n",
        "  for cycle in cycles:\n",
        "    cycle_edges = [x[i,j] for (i,j) in E if i in cycle and j in cycle and i < j]\n",
        "    c = m.add_constr(mip.xsum(cycle_edges) <= len(cycle_edges) - 1)\n",
        "    print(\"Added:\", c)\n",
        "\n",
        "  m.optimize()\n",
        "  cycles = get_cycles(V, E, x)\n",
        "  iters += 1\n",
        "  if iters > 10:\n",
        "    break\n",
        "\n",
        "print(m.objective_value)\n",
        "draw_solution (V, E, x)"
      ],
      "metadata": {
        "id": "DvFEWxlu_iQS"
      },
      "id": "DvFEWxlu_iQS",
      "execution_count": null,
      "outputs": []
    },
    {
      "cell_type": "markdown",
      "source": [
        "## How this performs w.r.t. a model with all subtour-elimination constraints?\n",
        "\n"
      ],
      "metadata": {
        "id": "oRifaW4oB5Yd"
      },
      "id": "oRifaW4oB5Yd"
    },
    {
      "cell_type": "code",
      "source": [
        "def solve_with_cut_generation(V, E, distance):\n",
        "  m = mip.Model()\n",
        "\n",
        "  x = {(i,j): m.add_var(var_type=mip.BINARY, name=\"x{}{}\".format(str(i), str(j))) for (i,j) in E}\n",
        "\n",
        "  for i in V:\n",
        "      m.add_constr(mip.xsum(x[j,i] for j in V if j < i) +\n",
        "                  mip.xsum(x[i,j] for j in V if j > i) == 2)\n",
        "\n",
        "  m.objective = mip.minimize(mip.xsum(distance[i,j] * x[i,j] for (i,j) in E))\n",
        "  m.optimize()\n",
        "\n",
        "  cycles = get_cycles(V, E, x)\n",
        "  iters = 0\n",
        "  while len(cycles) > 0:\n",
        "    for cycle in cycles:\n",
        "      cycle_edges = [x[i,j] for (i,j) in E if i in cycle and j in cycle and i < j]\n",
        "      c = m.add_constr(mip.xsum(cycle_edges) <= len(cycle_edges) - 1)\n",
        "      print(\"Added:\", c)\n",
        "\n",
        "    m.optimize()\n",
        "    cycles = get_cycles(V, E, x)\n",
        "    iters += 1\n",
        "    if iters > 10:\n",
        "      break\n",
        "\n",
        "  return m.objective_value\n",
        "\n",
        "\n",
        "def solve_with_complete_model(V, E, distance):\n",
        "  m = mip.Model()\n",
        "\n",
        "  x = {(i,j): m.add_var(var_type=mip.BINARY, name=\"x{}{}\".format(str(i), str(j))) for (i,j) in E}\n",
        "\n",
        "  for i in V:\n",
        "      m.add_constr(mip.xsum(x[j,i] for j in V if j < i) +\n",
        "                  mip.xsum(x[i,j] for j in V if j > i) == 2)\n",
        "      \n",
        "  from itertools import chain, combinations\n",
        "  powerset = list(chain.from_iterable(combinations(V, r) for r in V))\n",
        "\n",
        "  for S in powerset:\n",
        "    if len(S) > 0 and len(S) < k:\n",
        "        m.add_constr(mip.xsum(x[i,j] for i in S for j in S if i < j) <= len(S) - 1)\n",
        "\n",
        "  m.objective = mip.minimize(mip.xsum(distance[i,j] * x[i,j] for (i,j) in E))\n",
        "  m.optimize()\n",
        "\n",
        "  return m.objective_value\n",
        "\n",
        "%time print(\"Cut generation obj:\", solve_with_cut_generation(V, E, distance))\n",
        "%time print(\"Complete model obj:\", solve_with_complete_model(V, E, distance))"
      ],
      "metadata": {
        "id": "90MltRC4CEoX"
      },
      "id": "90MltRC4CEoX",
      "execution_count": null,
      "outputs": []
    }
  ],
  "metadata": {
    "kernelspec": {
      "display_name": "Python 3 (ipykernel)",
      "language": "python",
      "name": "python3"
    },
    "language_info": {
      "codemirror_mode": {
        "name": "ipython",
        "version": 3
      },
      "file_extension": ".py",
      "mimetype": "text/x-python",
      "name": "python",
      "nbconvert_exporter": "python",
      "pygments_lexer": "ipython3",
      "version": "3.10.4"
    },
    "colab": {
      "provenance": []
    }
  },
  "nbformat": 4,
  "nbformat_minor": 5
}