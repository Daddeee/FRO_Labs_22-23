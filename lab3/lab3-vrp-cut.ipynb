{
  "cells": [
    {
      "attachments": {},
      "cell_type": "markdown",
      "id": "71e8cba3",
      "metadata": {
        "id": "71e8cba3"
      },
      "source": [
        "# Lab session of 17/05/2023\n",
        "\n",
        "## Problem 1: Capacitated Vehicle Routing Problem\n",
        "\n",
        "The Capacitated Vehicle Routing Problem (CVRP) is a generalization of the Traveling Salesman Problem (TSP) where a fleet of vehicles $K$ is available to serve a set of customers. Each vehicle has a limited capacity and the goal is to find a set of routes that minimizes the total travel cost while serving all customers and respecting the capacity constraint of each vehicle.\n",
        "\n",
        "In particulat, let $G = (V, A)$ be a complete graph, where $V = \\{0,...,n\\}$ is the vertex set and $A$ is the arc set. Vertices $i = 1,...,n$ correspond to the customers, whereas vertex $0$ corresponds to the depot. A nonnegative cost, $c_{ij}$, is associated with each arc $(i,j) \\in A$ and represents the travel cost spent to go from vertex $i$ to vertex $j$. We suppose that $c_{ii} = \\infty$ for all $i \\in V$.\n",
        "\n",
        "Each customer $i \\in V$ is associated with a known nonnegative demand to be delivered, $d_i$, and the depot has a fictitious demand $d_0 = 0$. \n",
        "\n",
        "A set $K$ of identical vehicles, each with capacity $C$, is available at the depot. To ensure feasibility we assume that $d_i \\le C$ for each $i \\in V$ and that we have a sufficient amount of vehicles to serve all customers.\n",
        "\n",
        "Given a vertex set $S \\subseteq V \\setminus \\{0\\}$, let $d(S) = \\sum_{i \\in S}{d_i}$ denote the total demand of the set. We denote with $r(S)$ the minimum number of vehicles needed to serve the total demand of $S$, i.e., $r(S) = \\lceil d(S)/C \\rceil$.\n",
        "\n",
        "The CVRP consists of finding a collection of vehicle routes with minimum cost, defined as the sum of the costs of the arcs belonging to each route, and such that:\n",
        "* each route starts and finishes at the depot vertex;\n",
        "* each customer vertex is visited by exactly one route; \n",
        "* the sum of the demands of the vertices visited by a route does not exceed the vehicle's capacity $C$.\n",
        "\n",
        "## Two-index vehicle flow formulation \n",
        "\n",
        "Let $x_{ij} \\forall (i,j) \\in A$ be a binary variable whose value is 1 if a vehicle travels along arc $(i,j)$ and 0 otherwise. The two-index vehicle flow formulation of the CVRP is the following:\n",
        "\n",
        "$$\n",
        "\\begin{array}{lll}\n",
        "   \\min & \\sum_{(i,j) \\in A} c_{ij} x_{ij}\\\\\n",
        "   \\textrm{s.t.} & \\sum_{i \\in V} x_{ij} = 1 & \\forall j \\in V \\setminus \\{0\\} \\\\\n",
        "                 & \\sum_{i \\in V} x_{ji} = 1 & \\forall j \\in V \\setminus \\{0\\} \\\\\n",
        "                 & \\sum_{i \\in V} x_{i0} = K & \\\\\n",
        "                 & \\sum_{i \\in V} x_{0i} = K & \\\\\n",
        "                 & \\sum_{i \\in S}{\\sum_{j \\in S}{x_{ij}}} \\le |S| - r(S) & \\forall S \\subseteq V \\setminus \\{0\\}: S \\neq \\varnothing \\\\\n",
        "                 & x_{ij} \\in \\{0,1\\} & \\forall (i,j) \\in A\n",
        "\\end{array}\n",
        "$$"
      ]
    },
    {
      "attachments": {},
      "cell_type": "markdown",
      "id": "1f1a6cdb",
      "metadata": {
        "id": "1f1a6cdb"
      },
      "source": [
        "## Exercise\n",
        "\n",
        "1. Generate $k$ random customers by creating random $x,y$ coordinates for each; the coordinates should be in the interval $[0,100]$. Generate also a random demand for each customer, with values in the interval $[1,10]$;\n",
        "2. Assume the graph $G = (V,A)$ on which to solve the CVRP is _complete_, i.e. any two pairs are connected by an edge;\n",
        "3. Create the optimization model for the CVRP without adding any subtour elimination constraints;\n",
        "4. Iteratively solve the optimization model and then add subtour elimination constraints until the solution is a single (optimal) tour."
      ]
    },
    {
      "attachments": {},
      "cell_type": "markdown",
      "id": "65d91fd2",
      "metadata": {
        "id": "65d91fd2"
      },
      "source": [
        "## Solution"
      ]
    },
    {
      "cell_type": "code",
      "execution_count": null,
      "id": "6ac6b084",
      "metadata": {
        "colab": {
          "base_uri": "https://localhost:8080/"
        },
        "id": "6ac6b084",
        "outputId": "68c0dabe-31db-45c0-9050-fda775c9d929"
      },
      "outputs": [],
      "source": [
        "# When using Colab, make sure you run this instruction beforehand\n",
        "!pip install mip"
      ]
    },
    {
      "cell_type": "code",
      "execution_count": null,
      "id": "749a44a5",
      "metadata": {
        "id": "749a44a5"
      },
      "outputs": [],
      "source": [
        "import numpy as np\n",
        "import math\n",
        "\n",
        "n = 8       # number of nodes\n",
        "max_d = 10  # max demand per node\n",
        "C = 30      # capacity of each vehicle\n",
        "\n",
        "grid_size = 100 # size of the grid of points\n",
        "\n",
        "np.random.seed(1337)\n",
        "\n",
        "# Create k random points with two coordinates. Multiplying by grid_size yields\n",
        "# random numbers between 0 and 100.\n",
        "point = grid_size * np.random.random((n,2))\n",
        "\n",
        "d = np.random.choice(np.arange(1, max_d), size=n)\n",
        "\n",
        "k = int(np.ceil(np.sum(d) / C))\n",
        "\n",
        "K = [i for i in range(k)]\n",
        "\n",
        "# Define the set of vertices of the graph as the list of numbers from 0 to k-1\n",
        "V = [i for i in range(n)]\n",
        "\n",
        "# Determine the distance between each point\n",
        "c = np.array([[math.sqrt(np.sum((point[i] - point[j])**2)) for i in V] for j in V])\n",
        "\n",
        "# Set C[i,i] to an arbitrarily large value to forbid usage of x[i,i]\n",
        "for i in V:\n",
        "  c[i,i] = 10000000"
      ]
    },
    {
      "attachments": {},
      "cell_type": "markdown",
      "id": "81448c8b",
      "metadata": {
        "id": "81448c8b"
      },
      "source": [
        "Let's plot these points on the grid. We use `matplotlib` and specifically the function `matplotlib.pyplot`. We then create a complete graph and draw it on the grid."
      ]
    },
    {
      "cell_type": "code",
      "execution_count": null,
      "id": "149a16a1",
      "metadata": {
        "colab": {
          "base_uri": "https://localhost:8080/",
          "height": 516
        },
        "id": "149a16a1",
        "outputId": "f0b5cedb-ffc9-452a-db33-677a3e27f508"
      },
      "outputs": [],
      "source": [
        "import networkx as nx\n",
        "\n",
        "# Set of arcs\n",
        "A = [(i,j) for i in V for j in V ]\n",
        "\n",
        "# Define a dictionary whose keys are the nodes, and the values are tuples\n",
        "# containing the (x,y) coordinates of each point\n",
        "coord = {i: (point[i,0], point[i,1]) for i in V}\n",
        "\n",
        "g = nx.Graph()\n",
        "\n",
        "g.add_nodes_from(V)\n",
        "g.add_edges_from(A)\n",
        "\n",
        "nx.draw(g, pos=coord)"
      ]
    },
    {
      "cell_type": "code",
      "execution_count": null,
      "id": "1bc32675",
      "metadata": {
        "colab": {
          "base_uri": "https://localhost:8080/"
        },
        "id": "1bc32675",
        "outputId": "08b03830-d800-465b-cc89-8db7aa9d9b0d"
      },
      "outputs": [],
      "source": [
        "# Create model, add variables\n",
        "import mip\n",
        "\n",
        "m = mip.Model()\n",
        "\n",
        "x = {} # TODO\n",
        "\n",
        "# TODO Add conservation constraints\n",
        "\n",
        "m.objective = # TODO\n",
        "status = m.optimize()\n",
        "\n",
        "print(m.objective_value)\n",
        "print(status)"
      ]
    },
    {
      "attachments": {},
      "cell_type": "markdown",
      "id": "2886afc8",
      "metadata": {
        "id": "2886afc8"
      },
      "source": [
        "We can rewrite the function for drawing the MIP solution, which might contain subtours."
      ]
    },
    {
      "cell_type": "code",
      "execution_count": null,
      "id": "a7d8c116",
      "metadata": {
        "colab": {
          "base_uri": "https://localhost:8080/",
          "height": 516
        },
        "id": "a7d8c116",
        "outputId": "85236dab-20f3-4893-c54d-b5169d1e4bf7"
      },
      "outputs": [],
      "source": [
        "def draw_solution(V, A, x):\n",
        "    g = nx.Graph()\n",
        "\n",
        "    # Draw the whole graph first: all nodes, all arcs, no highlighting\n",
        "    g.add_nodes_from(V)\n",
        "    g.add_edges_from([(i,j) for (i,j) in A])\n",
        "    nx.draw(g, pos=coord, with_labels=True, node_color=\"white\")\n",
        "\n",
        "    # Reset the graph and add only the arcs that belong to the solution, \n",
        "    # i.e. those for which the optimal value of the variable x[i,j] is nonzero\n",
        "    g.clear()\n",
        "    g.add_edges_from([(i,j) for (i,j) in A if x[i,j].x > 0.5])\n",
        "    nx.draw(g, pos=coord, width=4, edge_color='red', with_labels=True, node_color='white')\n",
        "\n",
        "    # finally, draw a graph consisting of the sole root node, highlighted in green\n",
        "    g.clear()\n",
        "    g.add_node(0)\n",
        "    nx.draw(g, pos={0: coord[0]}, node_color='white', with_labels=True)\n",
        "\n",
        "    \n",
        "# after defining the function, call it with the current data\n",
        "draw_solution (V, A, x)"
      ]
    },
    {
      "attachments": {},
      "cell_type": "markdown",
      "id": "63bc677b",
      "metadata": {
        "id": "63bc677b"
      },
      "source": [
        "Did we get subtours? If so, we must separate (generate) subtour elimination constraints. We do it by hand for the first iteration.\n",
        "\n",
        "Let's start by defining a function to compute $r(S) = ⌈(\\sum_{i \\in S}d_i) / C⌉$"
      ]
    },
    {
      "cell_type": "code",
      "execution_count": null,
      "id": "l7jDkLm7Y5dx",
      "metadata": {
        "id": "l7jDkLm7Y5dx"
      },
      "outputs": [],
      "source": [
        "def r(S):\n",
        "  ..."
      ]
    },
    {
      "cell_type": "code",
      "execution_count": null,
      "id": "f2d1a259",
      "metadata": {
        "colab": {
          "base_uri": "https://localhost:8080/",
          "height": 534
        },
        "id": "f2d1a259",
        "outputId": "2175ca3f-e37c-4e61-ab53-833e542d0864"
      },
      "outputs": [],
      "source": [
        "# Add single subtour elimination constraint and reoptimize"
      ]
    },
    {
      "attachments": {},
      "cell_type": "markdown",
      "id": "82246f27",
      "metadata": {
        "id": "82246f27"
      },
      "source": [
        "## How do we make this automatic? \n",
        "\n",
        "How do we repeat this step by adding the appropriate subtour-elimination constraint until we find valid routes?\n",
        "\n"
      ]
    },
    {
      "cell_type": "code",
      "execution_count": null,
      "id": "fd90ebf4",
      "metadata": {
        "id": "fd90ebf4"
      },
      "outputs": [],
      "source": [
        "# returns a list of cycles (list of vertices) in the solution\n",
        "def get_cycles(V, A, x):\n",
        "  graph = [[] for i in V]\n",
        "\n",
        "  for (i,j) in A:\n",
        "    if x[i,j].x > 0.5:\n",
        "      graph[i].append(j)\n",
        "\n",
        "  cycles = []\n",
        "  color = [0 for i in V]\n",
        "  par = [-1 for i in V]\n",
        "\n",
        "  for i in V:\n",
        "    if par[i] == -1:\n",
        "      dfs_cycle(graph, cycles, i, -1, color, par)\n",
        "\n",
        "  # special handling of cycles with 2 nodes which are not detected by DFS\n",
        "  for u in V:\n",
        "    adj = [v for v in graph[u] if v > u]\n",
        "    for v in adj:\n",
        "      if u in graph[v]:\n",
        "        cycles.append([u,v])\n",
        "\n",
        "  return [c for c in cycles if len(c) < len(V) and len(c) > 0 and not 0 in c]\n",
        "\n",
        "# depth first search algorithm\n",
        "def dfs_cycle(graph, cycles, u, p, color, par):\n",
        "\n",
        "    # skip completely visited vertex.\n",
        "    if color[u] == 2:\n",
        "        return\n",
        "\n",
        "    # If vertex has been seen but not completely visited -> cycle detected.\n",
        "    # Backtrack based on parents to find the complete cycle.\n",
        "    if color[u] == 1:\n",
        "        v = []\n",
        "        cur = p\n",
        "        v.append(cur)\n",
        " \n",
        "        # backtrack the vertex which are\n",
        "        # in the current cycle thats found\n",
        "        while cur != u:\n",
        "            cur = par[cur]\n",
        "            v.append(cur)\n",
        "\n",
        "        cycles.append(v)\n",
        "        return\n",
        " \n",
        "    par[u] = p\n",
        " \n",
        "    # partially visited.\n",
        "    color[u] = 1\n",
        " \n",
        "    # simple dfs on graph\n",
        "    for v in graph[u]:\n",
        "        # if it has not been visited previously\n",
        "        if v == par[u]:\n",
        "            continue\n",
        "        dfs_cycle(graph, cycles, v, u, color, par)\n",
        " \n",
        "    # completely visited.\n",
        "    color[u] = 2"
      ]
    },
    {
      "cell_type": "code",
      "execution_count": null,
      "id": "DvFEWxlu_iQS",
      "metadata": {
        "colab": {
          "base_uri": "https://localhost:8080/",
          "height": 659
        },
        "id": "DvFEWxlu_iQS",
        "outputId": "8d1f842f-8f8a-4622-a4d6-9bf3b76a8abb"
      },
      "outputs": [],
      "source": [
        "import mip\n",
        "\n",
        "m = mip.Model()\n",
        "\n",
        "# TODO...\n",
        "\n",
        "m.optimize()\n",
        "\n",
        "cycles = get_cycles(V, A, x)\n",
        "while len(cycles) > 0:\n",
        "  for cycle in cycles:\n",
        "    # TODO...\n",
        "    print(\"Added constraint for\", cycle)\n",
        "\n",
        "  m.optimize()\n",
        "  cycles = get_cycles(V, A, x)\n",
        "\n",
        "print(m.objective_value)\n",
        "draw_solution (V, A, x)"
      ]
    },
    {
      "attachments": {},
      "cell_type": "markdown",
      "id": "oRifaW4oB5Yd",
      "metadata": {
        "id": "oRifaW4oB5Yd"
      },
      "source": [
        "## How this performs w.r.t. a model with all subtour-elimination constraints?\n",
        "\n"
      ]
    },
    {
      "cell_type": "code",
      "execution_count": null,
      "id": "90MltRC4CEoX",
      "metadata": {
        "id": "90MltRC4CEoX"
      },
      "outputs": [],
      "source": [
        "def solve_with_cut_generation(V, E, distance):\n",
        "  # TODO\n",
        "\n",
        "\n",
        "def solve_with_complete_model(V, E, distance):\n",
        "  # TODO\n",
        "\n",
        "%time print(\"Cut generation obj:\", solve_with_cut_generation(V, E, distance))\n",
        "%time print(\"Complete model obj:\", solve_with_complete_model(V, E, distance))"
      ]
    }
  ],
  "metadata": {
    "colab": {
      "provenance": []
    },
    "kernelspec": {
      "display_name": "Python 3 (ipykernel)",
      "language": "python",
      "name": "python3"
    },
    "language_info": {
      "codemirror_mode": {
        "name": "ipython",
        "version": 3
      },
      "file_extension": ".py",
      "mimetype": "text/x-python",
      "name": "python",
      "nbconvert_exporter": "python",
      "pygments_lexer": "ipython3",
      "version": "3.10.4"
    }
  },
  "nbformat": 4,
  "nbformat_minor": 5
}
