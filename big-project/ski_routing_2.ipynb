{
  "cells": [
    {
      "cell_type": "markdown",
      "id": "71e8cba3",
      "metadata": {
        "id": "71e8cba3"
      },
      "source": [
        "# Optimizing Ski Students and Teachers Pickup\n",
        "\n",
        "**Develop an algorithm to solve the problem outlined below.**\n",
        "\n",
        "Your code must solve all instances provided in the [GitHup repository of the course](https://github.com/Daddeee/FRO_Labs_22-23/tree/master/big-project) in **less than 30 minutes** of execution time.\n",
        "\n",
        "The last cell of your notebook should print the results of your algorithm as if it was a csv file with 3 columns:\n",
        "\n",
        "*   \"Id\": the ID of the instance (1, 2, 3, ..., 8)\n",
        "*   \"Obj\": the objective function value obtained\n",
        "*   \"Time\": the execution time in seconds.\n",
        "\n",
        "**This notebook already contains the skeleton of code to produce the correct output**. \n",
        "You only have to include your solution in the \"solve\" function below.\n",
        "\n",
        "Once you have completed your code, you can upload it to the [big-project WeBeep assignment](https://webeep.polimi.it/mod/assign/view.php?id=171992).\n",
        "\n",
        "For instances 1, 2, 3 and 4, we provide you with the optimal objective function value ([here on GitHub](https://github.com/Daddeee/FRO_Labs_22-23/tree/master/big-project/solutions)). You can compare the output of your algorithm with these results to understand how well you are performing.\n",
        "\n",
        "## General info\n",
        "*   groups of max 3 students\n",
        "*   deadline at 09/06/2023 23:59 CET\n",
        "*   NO pre-coded libraries or algorithms.\n",
        "\n",
        "## Evaluation\n",
        "*   4 lab points if you deliver something that works.\n",
        "*   10 points based on the quality of your solutions, measured in gap w.r.t. optimal solutions and execution times.\n",
        "*   Execution times will be re-examined on a random basis.\n",
        "\n",
        "## Problem\n",
        "\n",
        "A ski school provides transportation for its students.\n",
        "\n",
        "The ski school operates a fleet of $k$ buses, each capable of transporting a maximum of $C$ students. Based on the enrollments for the upcoming winter, the school expects to pick up its students from a set of $n$ neighboring towns. Each town has $d_i$ students and must be visited exactly once by one of the buses.\n",
        "\n",
        "The school has a total of $k$ teachers (one per bus). Each day, some teachers (not necessarily all $k$ of them) will drive a bus to pickup all students. When an instructor is not driving a bus, he must be picked up by one of the other buses. The ski school pays a fixed daily fee for each instructor that drives a bus, equivalent to the distance between his hometown and the school.\n",
        "\n",
        "To ensure efficient transportation, a bus visiting a town must pick up all of its students, and the total number of students picked up by each bus must not exceed its capacity. Additionally, it is mandatory for each bus to start and end its route at the ski school.\n",
        "\n",
        "Your goal is to plan the pickup routes of the ski school with the goal of minimizing the total distance travelled by buses and the fixed cost of each teacher that is driving a bus.\n",
        "\n",
        "\n",
        "## Instance\n",
        "\n",
        "Each instance is a \".json\" file containing all information needed to solve the problem. Its fields are:\n",
        "\n",
        "*   *town_coordinates*: the coordinates $(x,y) \\in [0,100]^2$ of each town,\n",
        "*   *depot_coordinates*: the coordinates $(x,y) \\in [0,100]^2$ of the depot,\n",
        "*   *teacher_coordinates*: the coordinates $(x,y) \\in [0,100]^2$ of the hometown of each teacher,\n",
        "*   *students_per_town*: the number of students waiting in each town.\n",
        "*   *bus_capacity*: the maximum number of people that can travel on each bus.\n"
      ]
    },
    {
      "cell_type": "code",
      "execution_count": null,
      "id": "JHfbcjjCsA6a",
      "metadata": {
        "colab": {
          "base_uri": "https://localhost:8080/"
        },
        "id": "JHfbcjjCsA6a",
        "outputId": "7813bed1-36f2-4df0-d580-86c1f3547c69"
      },
      "outputs": [],
      "source": [
        "# Run this cell to download all instances from the GitHub repository.\n",
        "# It also downloads results for instances 1, 2, 3, and 4.\n",
        "\n",
        "# Clean files if present\n",
        "!rm instance_1.json\n",
        "!rm result_1.txt\n",
        "!rm instance_2.json\n",
        "!rm result_2.txt\n",
        "!rm instance_3.json\n",
        "!rm result_3.txt\n",
        "!rm instance_4.json\n",
        "!rm result_4.txt\n",
        "!rm instance_5.json\n",
        "!rm instance_6.json\n",
        "!rm instance_7.json\n",
        "!rm instance_8.json\n",
        "\n",
        "# Download directly from Github\n",
        "!wget https://raw.githubusercontent.com/Daddeee/FRO_Labs_22-23/master/big-project/instances/instance_1.json\n",
        "!wget https://raw.githubusercontent.com/Daddeee/FRO_Labs_22-23/master/big-project/instances/instance_2.json\n",
        "!wget https://raw.githubusercontent.com/Daddeee/FRO_Labs_22-23/master/big-project/instances/instance_3.json\n",
        "!wget https://raw.githubusercontent.com/Daddeee/FRO_Labs_22-23/master/big-project/instances/instance_4.json\n",
        "!wget https://raw.githubusercontent.com/Daddeee/FRO_Labs_22-23/master/big-project/instances/instance_5.json\n",
        "!wget https://raw.githubusercontent.com/Daddeee/FRO_Labs_22-23/master/big-project/instances/instance_6.json\n",
        "!wget https://raw.githubusercontent.com/Daddeee/FRO_Labs_22-23/master/big-project/instances/instance_7.json\n",
        "!wget https://raw.githubusercontent.com/Daddeee/FRO_Labs_22-23/master/big-project/instances/instance_8.json\n",
        "\n",
        "!wget https://raw.githubusercontent.com/Daddeee/FRO_Labs_22-23/master/big-project/results/result_1.txt\n",
        "!wget https://raw.githubusercontent.com/Daddeee/FRO_Labs_22-23/master/big-project/results/result_2.txt\n",
        "!wget https://raw.githubusercontent.com/Daddeee/FRO_Labs_22-23/master/big-project/results/result_3.txt\n",
        "!wget https://raw.githubusercontent.com/Daddeee/FRO_Labs_22-23/master/big-project/results/result_4.txt"
      ]
    },
    {
      "cell_type": "code",
      "execution_count": null,
      "id": "ro0n3bSnzUeC",
      "metadata": {
        "colab": {
          "base_uri": "https://localhost:8080/"
        },
        "id": "ro0n3bSnzUeC",
        "outputId": "1bb1db83-9a8a-4f42-c154-5ac6814b529b"
      },
      "outputs": [],
      "source": [
        "!pip install mip"
      ]
    },
    {
      "cell_type": "code",
      "execution_count": null,
      "id": "wxjEyiR2r6y9",
      "metadata": {
        "colab": {
          "base_uri": "https://localhost:8080/"
        },
        "id": "wxjEyiR2r6y9",
        "outputId": "ba7eb798-4b83-4433-828b-5c536ecd24ed"
      },
      "outputs": [],
      "source": [
        "import json\n",
        "import math\n",
        "import datetime\n",
        "\n",
        "# Reads a .json instance and returns it in a dictionary\n",
        "def load_instance(filename):\n",
        "  with open(filename, 'r') as f:\n",
        "    data = json.load(f)\n",
        "  return data\n",
        "\n",
        "# Reads a .txt result and returns it\n",
        "def load_result(filename):\n",
        "  try:\n",
        "    with open(filename, 'r') as f:\n",
        "      return float(f.read())\n",
        "  except FileNotFoundError:\n",
        "    return None\n",
        "\n",
        "def solve(instance):\n",
        "  # TODO INSERT HERE YOUR ALGORITHM\n",
        "  return 0\n",
        "\n",
        "insts = [1, 2, 3, 4, 5, 6, 7, 8]\n",
        "outputs = []\n",
        "times = []\n",
        "\n",
        "for i in insts:\n",
        "  instance_name = \"instance_{}.json\".format(i)\n",
        "  results_name = \"result_{}.json\".format(i)\n",
        "  inst = load_instance(instance_name)\n",
        "\n",
        "  # start and end are used to measure execution time\n",
        "  start = datetime.datetime.now()\n",
        "  \n",
        "  obj = solve(inst)\n",
        "  \n",
        "  end = datetime.datetime.now()\n",
        "  time = (end - start).total_seconds()\n",
        "\n",
        "  print(\"[{}] Found solution with obj: {}\".format(i, obj))\n",
        "  print(\"[{}] Elapsed time: {} s\".format(i, time))\n",
        "\n",
        "  res = load_result(results_name)\n",
        "  if res is not None:\n",
        "    gap = 100 * (obj - res) / res\n",
        "    print(\"[{}] Gap: {}\".format(i, gap))\n",
        "\n",
        "  outputs.append(obj)\n",
        "  times.append(time)\n",
        "\n",
        "print(\"Id,Obj,Time\")\n",
        "for i in range(len(insts)):\n",
        "  print(insts[i], outputs[i], times[i])"
      ]
    }
  ],
  "metadata": {
    "colab": {
      "provenance": []
    },
    "kernelspec": {
      "display_name": "Python 3 (ipykernel)",
      "language": "python",
      "name": "python3"
    },
    "language_info": {
      "codemirror_mode": {
        "name": "ipython",
        "version": 3
      },
      "file_extension": ".py",
      "mimetype": "text/x-python",
      "name": "python",
      "nbconvert_exporter": "python",
      "pygments_lexer": "ipython3",
      "version": "3.10.4"
    }
  },
  "nbformat": 4,
  "nbformat_minor": 5
}
