{
  "cells": [
    {
      "attachments": {},
      "cell_type": "markdown",
      "id": "71e8cba3",
      "metadata": {
        "id": "71e8cba3"
      },
      "source": [
        "# Optimizing Ski Students Pickup\n",
        "\n",
        "A ski school provides transportation to the ski resort for its students. \n",
        "\n",
        "The ski school has $k$ buses, each one having the capacity to transport at most $C$ students.\n",
        "Based on enrolments for the next winter, the school expects to pick up its students from $n$ neighbouring towns. \n",
        "Each town has $d_i$ students, and it must be visited exactly once by one of the $k$ buses. \n",
        "\n",
        "A bus visiting a town must pick up all of its students, and the total number of students picked up by each bus must not exceed its capacity.\n",
        "Lastly, it is mandatory that each bus starts and ends its route at the ski school.\n",
        "\n",
        "**Your goal is to develop a model to plan the pickup routes of the ski school with the goal of minimizing transportation costs.**\n",
        "\n"
      ]
    },
    {
      "cell_type": "markdown",
      "id": "65d91fd2",
      "metadata": {
        "id": "65d91fd2"
      },
      "source": [
        "## Formulation\n",
        "\n",
        "### Sets\n",
        "\n",
        "*   $V$: set of $n$ neighbouring towns to be visited.\n",
        "*   $K$: set of $k$ available buses.\n",
        "\n",
        "### Parameters\n",
        "\n",
        "*   $c_{ij}$: distance between towns $i \\in V$ and $j \\in V$,\n",
        "*   $d_i$: number of students waiting at town $i \\in V$,\n",
        "*   $C$: maximum number of students per bus.\n",
        "\n",
        "### Variables\n",
        "\n",
        "*   $x_{ijk}$: binary variable whose value is $1$ if bus $k \\in K$ travels from town $i \\in V$ to $j \\in V$, 0 otherwise,\n",
        "*   $y_{ik}$: binary variable whose value is 1 if bus $k \\in K$ visits town $i \\in V$.\n",
        "\n",
        "### Model\n",
        "\n",
        "$$\n",
        "\\begin{array}{lll}\n",
        "   \\min & \\sum_{i \\in V} \\sum_{j \\in V} c_{ij} \\sum_{k \\in K} x_{ijk}\\\\\n",
        "   \\textrm{s.t.} & \\sum_{k \\in K} y_{ik} = 1 & \\forall i \\in V \t\\setminus \\{0\\}\\\\\n",
        "                 & \\sum_{k \\in K} y_{0k} = K & \\\\\n",
        "                 & \\sum_{j \\in V} x_{ijk} = \\sum_{j \\in V} x_{jik} & \\forall i \\in V, k \\in K \\\\\n",
        "                 & \\sum_{j \\in V} x_{ijk} = y_{ik} & \\forall i \\in V, k \\in K \\\\\n",
        "                 & \\sum_{i \\in V} d_i y_{ik} \\le C & \\forall k \\in K \\\\\n",
        "                 & \\sum_{i \\in S} \\sum_{j \\in S} x_{ijk} \\le |S| - 1 & \\forall S \\subseteq V \t\\setminus \\{0\\}, |S| \\ge 1, k \\in K \\\\\n",
        "                 & y_{ik} \\in \\{0,1\\} & \\forall i \\in V, k \\in K \\\\\n",
        "                 & x_{ijk} \\in \\{0,1\\} & \\forall i \\in V, j \\in V, k \\in K\n",
        "\\end{array}\n",
        "$$"
      ]
    },
    {
      "cell_type": "code",
      "execution_count": null,
      "id": "6ac6b084",
      "metadata": {
        "id": "6ac6b084"
      },
      "outputs": [],
      "source": [
        "!pip install mip"
      ]
    },
    {
      "cell_type": "code",
      "execution_count": null,
      "id": "KHtvHQ-_y99F",
      "metadata": {
        "id": "KHtvHQ-_y99F"
      },
      "outputs": [],
      "source": [
        "import numpy as np\n",
        "import math\n",
        "import networkx as nx\n",
        "\n",
        "\n",
        "n = 6   # number of towns\n",
        "k = 2   # number of buses\n",
        "C = 20  # max number of students per bus\n",
        "\n",
        "# number of students waiting in each town\n",
        "d = [2, 3, 7, 8, 8, 8]\n",
        "\n",
        "V = range(n)  # set of towns. The first town (index 0) contains the ski resort.\n",
        "V0 = V[1:]    # set of towns without the ski resort.\n",
        "K = range(k)  # set of buses.\n",
        "\n",
        "\n",
        "np.random.seed(12345)\n",
        "grid_size = 100\n",
        "point = grid_size * np.random.random((n,2))\n",
        "\n",
        "# distance between each pair of towns\n",
        "c = np.array([[math.sqrt(np.sum((point[i] - point[j])**2)) for i in V] for j in V])"
      ]
    },
    {
      "cell_type": "code",
      "execution_count": null,
      "id": "F29pxMjAT7n5",
      "metadata": {
        "id": "F29pxMjAT7n5"
      },
      "outputs": [],
      "source": [
        "import mip\n",
        "\n",
        "m = mip.Model()\n",
        "\n",
        "# TODO ...\n",
        "\n",
        "m.optimize()\n",
        "\n",
        "print(m.objective_value)"
      ]
    }
  ],
  "metadata": {
    "colab": {
      "provenance": []
    },
    "kernelspec": {
      "display_name": "Python 3 (ipykernel)",
      "language": "python",
      "name": "python3"
    },
    "language_info": {
      "codemirror_mode": {
        "name": "ipython",
        "version": 3
      },
      "file_extension": ".py",
      "mimetype": "text/x-python",
      "name": "python",
      "nbconvert_exporter": "python",
      "pygments_lexer": "ipython3",
      "version": "3.10.4"
    }
  },
  "nbformat": 4,
  "nbformat_minor": 5
}
